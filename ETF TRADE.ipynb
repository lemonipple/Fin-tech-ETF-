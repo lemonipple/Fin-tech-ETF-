{
 "cells": [
  {
   "cell_type": "code",
   "execution_count": 1,
   "metadata": {
    "collapsed": true
   },
   "outputs": [],
   "source": [
    "from math import ceil,floor\n",
    "from datetime import datetime\n",
    "import pandas as pd\n",
    "import numpy as np\n",
    "from sklearn.linear_model import LinearRegression\n",
    "\n",
    "\n"
   ]
  },
  {
   "cell_type": "code",
   "execution_count": null,
   "metadata": {
    "collapsed": true
   },
   "outputs": [],
   "source": [
    "class TrendFollowingAlgorithm(QCAlgorithm):\n",
    "    \n",
    "\n",
    "    def Initialize(self):\n",
    "        self.SetStartDate(2008, 01, 01)  \n",
    "        self.SetEndDate(2018, 01, 01)\n",
    "        self.SetCash(250000)            \n",
    "        self.lookback = 252/2\n",
    "        self.profittake = 1.96 # 95% bollinger band\n",
    "        self.maxlever = 0.9 # always hold 10% Cash\n",
    "        self.AddEquity(\"SPY\", Resolution.Minute)\n",
    "        self.multiple = 5.0 # 1% of annual return translate to what weight e.g. 5%\n",
    "        self.load_symbols()\n",
    "        for symbol in self.symbols:\n",
    "            symbol.weight = 0\n",
    "            symbol.stopprice = None\n",
    "            \n",
    "        self.PctDailyVolatilityTarget = 0.025 # target daily vol target in %\n",
    "\n",
    "        self.Schedule.On(self.DateRules.EveryDay(\"SPY\"), self.TimeRules.AfterMarketOpen(\"SPY\", 10), Action(self.trail_stop))\n",
    "        self.Schedule.On(self.DateRules.EveryDay(\"SPY\"), self.TimeRules.AfterMarketOpen(\"SPY\", 28), Action(self.regression))\n",
    "        self.Schedule.On(self.DateRules.EveryDay(\"SPY\"), self.TimeRules.AfterMarketOpen(\"SPY\", 30), Action(self.trade))\n",
    "\n",
    "\n",
    "    def OnData(self, data):\n",
    "        pass\n",
    "\n",
    "    def calc_vol_scalar(self):\n",
    "\n",
    "        df_price = pd.DataFrame(self.price, columns=self.price.keys()) \n",
    "        rets = np.log(df_price).diff().dropna()\n",
    "        lock_value = df_price.iloc[-1]\n",
    "        price_vol = self.calc_std(rets)\n",
    "        volatility_scalar = self.PctDailyVolatilityTarget / price_vol\n",
    "\n",
    "        return volatility_scalar\n",
    "    \n",
    "    def calc_std(self, returns):\n",
    "        downside_only = False\n",
    "        if (downside_only):\n",
    "            returns = returns.copy()\n",
    "            returns[returns > 0.0] = np.nan\n",
    "        # Exponentially-weighted moving std\n",
    "        b = returns.ewm(halflife=20,ignore_na=True, min_periods=0, adjust=True).std(bias=False).dropna() \n",
    "        return b.iloc[-1] \n",
    "    \n",
    "    def regression(self):\n",
    "        history = self.History(self.symbols, self.lookback, Resolution.Daily)\n",
    "        current = self.History(self.symbols, 28, Resolution.Minute)\n",
    "\n",
    "        self.price = {}\n",
    "     \n",
    "        for symbol in self.symbols:\n",
    "            self.price[symbol.Value] = list(history.loc[symbol.Value]['open'])\n",
    "            self.price[symbol.Value].append(current.loc[symbol.Value]['open'][0])\n",
    "\n",
    "        A = range( self.lookback + 1 )\n",
    "        for symbol in self.symbols:\n",
    "            # volatility\n",
    "            std = np.std(self.price[symbol.Value])\n",
    "            # Price points to run regression\n",
    "            Y = self.price[symbol.Value]\n",
    "            # Add column of ones so we get intercept\n",
    "            X = np.column_stack([np.ones(len(A)), A])\n",
    "            if len(X) != len(Y):\n",
    "                length = min(len(X), len(Y))\n",
    "                X = X[-length:]\n",
    "                Y = Y[-length:]\n",
    "                A = A[-length:]"
   ]
  },
  {
   "cell_type": "code",
   "execution_count": null,
   "metadata": {
    "collapsed": true
   },
   "outputs": [],
   "source": [
    " # Creating Model\n",
    "            reg = LinearRegression()\n",
    "            # Fitting training data\n",
    "            \n",
    "            reg = reg.fit(X, Y)\n",
    "            # run linear regression y = ax + b\n",
    "            b = reg.intercept_\n",
    "            a = reg.coef_[1]\n",
    "            \n",
    "            # Normalized slope\n",
    "            slope = a / b *252.0\n",
    "            # Currently how far away from regression line\n",
    "            delta = Y - (np.dot(a, A) + b)\n",
    "            # Don't trade if the slope is near flat (at least %7 growth per year to trade)\n",
    "            slope_min = 0.252\n",
    "            \n",
    "            # Long but slope turns down, then exit\n",
    "            if symbol.weight > 0 and slope < 0:\n",
    "                symbol.weight = 0\n",
    "                \n",
    "            # short but slope turns upward, then exit\n",
    "            if symbol.weight < 0 and slope < 0:\n",
    "                symbol.weight = 0\n",
    "                \n",
    "            # Trend is up\n",
    "            if slope > slope_min:\n",
    "                \n",
    "                # price crosses the regression line\n",
    "                if delta[-1] > 0 and delta[-2] < 0 and symbol.weight == 0:\n",
    "                    symbol.stopprice = None\n",
    "                    symbol.weight = slope\n",
    "                # Profit take, reaches the top of 95% bollinger band\n",
    "                if delta[-1] > self.profittake * std and symbol.weight > 0:\n",
    "                    symbol.weight = 0\n",
    "            \n",
    "            # Trend is down\n",
    "            if slope < -slope_min:\n",
    "          \n",
    "                # price crosses the regression line\n",
    "                if delta[-1] < 0 and delta[-2] > 0 and symbol.weight == 0:\n",
    "                    symbol.stopprice = None\n",
    "                    symbol.weight = slope\n",
    "                # profit take, reaches the top of 95% bollinger band\n",
    "                if delta[-1] < self.profittake * std and symbol.weight < 0:\n",
    "                    symbol.weight = 0\n",
    "                \n",
    "    \n",
    "    def trade(self):\n",
    "        vol_mult = self.calc_vol_scalar()\n",
    "        no_positions = 0\n",
    "        for symbol in self.symbols:\n",
    "            if symbol.weight != 0:\n",
    "              no_positions += 1\n",
    "        for symbol in self.symbols:\n",
    "            if symbol.weight == 0:\n",
    "                self.SetHoldings(symbol, 0)\n",
    "            elif symbol.weight > 0:\n",
    "                self.SetHoldings(symbol, (min(symbol.weight * self.multiple, self.maxlever)/no_positions)*vol_mult[symbol.Value])\n",
    "            elif symbol.weight < 0:\n",
    "                self.SetHoldings(symbol, (max(symbol.weight * self.multiple, -self.maxlever)/no_positions)*vol_mult[symbol.Value])\n",
    "\n",
    "    def trail_stop(self):\n",
    "        hist = self.History(self.symbols, 3, Resolution.Daily)\n",
    "        for symbol in self.symbols:\n",
    "            mean_price = (hist.loc[symbol.Value]['close']).mean()\n",
    "            # Stop loss percentage is the return over the lookback period\n",
    "            stoploss = abs(symbol.weight * self.lookback / 252.0) + 1    # percent change per period\n",
    "            if symbol.weight > 0:\n",
    "                if symbol.stopprice < 0:\n",
    "                    symbol.stopprice = mean_price / stoploss\n",
    "                else:\n",
    "                    symbol.stopprice = max(mean_price / stoploss, symbol.stopprice)\n",
    "                    if mean_price < symbol.stopprice:\n",
    "                        symbol.weight = 0\n",
    "                        self.Liquidate(symbol)\n",
    "            \n",
    "            elif symbol.weight < 0: \n",
    "                if symbol.stopprice < 0:\n",
    "                    symbol.stopprice = mean_price * stoploss\n",
    "                else:\n",
    "                    symbol.stopprice = min(mean_price * stoploss, symbol.stopprice)\n",
    "                    if mean_price > symbol.stopprice:\n",
    "                       symbol.weight = 0\n",
    "                       self.Liquidate(symbol)\n",
    "            \n",
    "            else:\n",
    "                symbol.stopprice = None\n",
    "            \n",
    "        \n",
    "    def load_symbols(self) :\n",
    "        self.equities = [\n",
    "            # Equity\n",
    "            'DIA',    # Dow\n",
    "            'SPY',    # S&P 500\n",
    "        ]\n",
    "        self.fixedincome = [\n",
    "            # Fixed income\n",
    "            'IEF',    # Treasury Bond\n",
    "            'HYG',    # High yield bond\n",
    "        ]\n",
    "        self.alternative = [\n",
    "            'USO',    # Oil\n",
    "            'GLD',    # Gold\n",
    "            'VNQ',    # US Real Estate\n",
    "            'RWX',    # Dow Jones Global ex-U.S. Select Real Estate Securities Index\n",
    "            'UNG',    # Natual gas\n",
    "            'DBA',    # Agriculture\n",
    "        ]\n",
    "        syl_list = self.equities + self.fixedincome + self.alternative\n",
    "        \n",
    "        self.symbols = []\n",
    "        for i in syl_list:\n",
    "            self.symbols.append(self.AddEquity(i, Resolution.Minute).Symbol)"
   ]
  },
  {
   "cell_type": "code",
   "execution_count": null,
   "metadata": {
    "collapsed": true
   },
   "outputs": [],
   "source": []
  },
  {
   "cell_type": "code",
   "execution_count": null,
   "metadata": {
    "collapsed": true
   },
   "outputs": [],
   "source": []
  },
  {
   "cell_type": "code",
   "execution_count": null,
   "metadata": {
    "collapsed": true
   },
   "outputs": [],
   "source": []
  },
  {
   "cell_type": "code",
   "execution_count": null,
   "metadata": {
    "collapsed": true
   },
   "outputs": [],
   "source": []
  },
  {
   "cell_type": "code",
   "execution_count": null,
   "metadata": {
    "collapsed": true
   },
   "outputs": [],
   "source": []
  },
  {
   "cell_type": "code",
   "execution_count": null,
   "metadata": {
    "collapsed": true
   },
   "outputs": [],
   "source": []
  },
  {
   "cell_type": "code",
   "execution_count": null,
   "metadata": {
    "collapsed": true
   },
   "outputs": [],
   "source": []
  },
  {
   "cell_type": "code",
   "execution_count": null,
   "metadata": {
    "collapsed": true
   },
   "outputs": [],
   "source": []
  },
  {
   "cell_type": "code",
   "execution_count": null,
   "metadata": {
    "collapsed": true
   },
   "outputs": [],
   "source": []
  },
  {
   "cell_type": "code",
   "execution_count": null,
   "metadata": {
    "collapsed": true
   },
   "outputs": [],
   "source": []
  },
  {
   "cell_type": "code",
   "execution_count": null,
   "metadata": {
    "collapsed": true
   },
   "outputs": [],
   "source": []
  },
  {
   "cell_type": "code",
   "execution_count": null,
   "metadata": {
    "collapsed": true
   },
   "outputs": [],
   "source": []
  }
 ],
 "metadata": {
  "anaconda-cloud": {},
  "kernelspec": {
   "display_name": "Python [conda root]",
   "language": "python",
   "name": "conda-root-py"
  },
  "language_info": {
   "codemirror_mode": {
    "name": "ipython",
    "version": 3
   },
   "file_extension": ".py",
   "mimetype": "text/x-python",
   "name": "python",
   "nbconvert_exporter": "python",
   "pygments_lexer": "ipython3",
   "version": "3.5.2"
  }
 },
 "nbformat": 4,
 "nbformat_minor": 1
}
